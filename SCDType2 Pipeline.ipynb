{
 "cells": [
  {
   "cell_type": "markdown",
   "metadata": {
    "application/vnd.databricks.v1+cell": {
     "cellMetadata": {},
     "inputWidgets": {},
     "nuid": "0654f014-18ea-4e17-a69d-92dd47da9b3d",
     "showTitle": false,
     "tableResultSettingsMap": {},
     "title": ""
    }
   },
   "source": [
    "Step 1: Assume this is a daily CDC"
   ]
  },
  {
   "cell_type": "code",
   "execution_count": 0,
   "metadata": {
    "application/vnd.databricks.v1+cell": {
     "cellMetadata": {
      "byteLimit": 2048000,
      "rowLimit": 10000
     },
     "inputWidgets": {},
     "nuid": "341fe075-98dc-43a8-a4d6-03a382d1c3f6",
     "showTitle": false,
     "tableResultSettingsMap": {},
     "title": ""
    }
   },
   "outputs": [
    {
     "output_type": "stream",
     "name": "stdout",
     "output_type": "stream",
     "text": [
      "Source Data:\n+------+------+-----+----+--------+----------+\n|emp_id|  name|  sal|dept|    city|valid_from|\n+------+------+-----+----+--------+----------+\n|   101|  Rama|80000|  IT|     Hyd|2025-07-19|\n|   102| Pavan|55000| Fin|     Blr|2025-07-19|\n|   103|Pavani|48000|  HR|  Mumbai|2025-07-19|\n|   104|  Mike|65000| Dev|New York|2025-07-19|\n+------+------+-----+----+--------+----------+\n\nTarget Dimension Table:\n+------+------+-----+----+----+----------+----------+---------+\n|emp_id|  name|  sal|dept|city|valid_from|  valid_to|is_active|\n+------+------+-----+----+----+----------+----------+---------+\n|   101|  Rama|70000|  IT| Hyd|2025-07-01|9999-12-31|        Y|\n|   101|  Rama|60000|  IT| Hyd|2025-02-26|2025-07-01|        N|\n|   102| Pavan|55000| Fin| Blr|2025-07-01|9999-12-31|        Y|\n|   103|Pavani|48000|  HR|Pune|2025-07-01|9999-12-31|        Y|\n+------+------+-----+----+----+----------+----------+---------+\n\n"
     ]
    }
   ],
   "source": [
    "from pyspark.sql import SparkSession\n",
    "from pyspark.sql.types import StructType, StructField, IntegerType, StringType, DateType\n",
    "\n",
    "# Create Spark session\n",
    "spark = SparkSession.builder.appName(\"SCD Type 2 Pipeline\").getOrCreate()\n",
    "\n",
    "# Step 1: Define your source data\n",
    "source_data = [\n",
    "    (101, \"Rama\", 80000, \"IT\", \"Hyd\", \"2025-07-19\"),\n",
    "    (102, \"Pavan\", 55000, \"Fin\", \"Blr\", \"2025-07-19\"),\n",
    "    (103, \"Pavani\", 48000, \"HR\", \"Mumbai\", \"2025-07-19\"),\n",
    "    (104, \"Mike\", 65000, \"Dev\", \"New York\", \"2025-07-19\")\n",
    "]\n",
    "\n",
    "source_columns = [\"emp_id\", \"name\", \"sal\", \"dept\", \"city\", \"valid_from\"]\n",
    "\n",
    "# Step 2: Define your target (historical) data\n",
    "target_data = [\n",
    "    (101, \"Rama\", 70000, \"IT\", \"Hyd\", \"2025-07-01\", \"9999-12-31\", \"Y\"),\n",
    "    (101, \"Rama\", 60000, \"IT\", \"Hyd\", \"2025-02-26\", \"2025-07-01\", \"N\"),\n",
    "    (102, \"Pavan\", 55000, \"Fin\", \"Blr\", \"2025-07-01\", \"9999-12-31\", \"Y\"),\n",
    "    (103, \"Pavani\", 48000, \"HR\", \"Pune\", \"2025-07-01\", \"9999-12-31\", \"Y\")\n",
    "]\n",
    "\n",
    "target_columns = [\"emp_id\", \"name\", \"sal\", \"dept\", \"city\", \"valid_from\", \"valid_to\", \"is_active\"]\n",
    "\n",
    "# Step 3: Create DataFrames\n",
    "source_df = spark.createDataFrame(source_data, source_columns)\n",
    "target_df = spark.createDataFrame(target_data, target_columns)\n",
    "\n",
    "# Cast date columns properly\n",
    "from pyspark.sql.functions import col, to_date\n",
    "\n",
    "source_df = source_df.withColumn(\"valid_from\", to_date(col(\"valid_from\"), \"yyyy-MM-dd\"))\n",
    "target_df = target_df.withColumn(\"valid_from\", to_date(col(\"valid_from\"), \"yyyy-MM-dd\")) \\\n",
    "                     .withColumn(\"valid_to\", to_date(col(\"valid_to\"), \"yyyy-MM-dd\"))\n",
    "\n",
    "# Display initial data\n",
    "print(\"Source Data:\")\n",
    "source_df.show()\n",
    "\n",
    "print(\"Target Dimension Table:\")\n",
    "target_df.show()\n"
   ]
  },
  {
   "cell_type": "markdown",
   "metadata": {
    "application/vnd.databricks.v1+cell": {
     "cellMetadata": {},
     "inputWidgets": {},
     "nuid": "126880ea-4a17-4179-b75c-586480742192",
     "showTitle": false,
     "tableResultSettingsMap": {},
     "title": ""
    }
   },
   "source": [
    "Step 2: apply xxhash64 and compare records between source and target"
   ]
  },
  {
   "cell_type": "code",
   "execution_count": 0,
   "metadata": {
    "application/vnd.databricks.v1+cell": {
     "cellMetadata": {
      "byteLimit": 2048000,
      "rowLimit": 10000
     },
     "inputWidgets": {},
     "nuid": "e68477e3-402a-4f3d-ab08-efd2a4c92d01",
     "showTitle": false,
     "tableResultSettingsMap": {
      "0": {
       "dataGridStateBlob": "{\"version\":1,\"tableState\":{\"columnPinning\":{\"left\":[\"#row_number#\"],\"right\":[]},\"columnSizing\":{\"emp_id\":90,\"is_active\":90,\"hash64\":178},\"columnVisibility\":{}},\"settings\":{\"columns\":{}},\"syncTimestamp\":1752963112042}",
       "filterBlob": null,
       "queryPlanFiltersBlob": null,
       "tableResultIndex": 0
      },
      "1": {
       "dataGridStateBlob": "{\"version\":1,\"tableState\":{\"columnPinning\":{\"left\":[\"#row_number#\"],\"right\":[]},\"columnSizing\":{\"hash64\":218},\"columnVisibility\":{}},\"settings\":{\"columns\":{}},\"syncTimestamp\":1752963116306}",
       "filterBlob": null,
       "queryPlanFiltersBlob": null,
       "tableResultIndex": 1
      }
     },
     "title": ""
    }
   },
   "outputs": [
    {
     "output_type": "stream",
     "name": "stdout",
     "output_type": "stream",
     "text": [
      "************************ Target Table Data ************************\n"
     ]
    },
    {
     "output_type": "display_data",
     "data": {
      "text/html": [
       "<style scoped>\n",
       "  .table-result-container {\n",
       "    max-height: 300px;\n",
       "    overflow: auto;\n",
       "  }\n",
       "  table, th, td {\n",
       "    border: 1px solid black;\n",
       "    border-collapse: collapse;\n",
       "  }\n",
       "  th, td {\n",
       "    padding: 5px;\n",
       "  }\n",
       "  th {\n",
       "    text-align: left;\n",
       "  }\n",
       "</style><div class='table-result-container'><table class='table-result'><thead style='background-color: white'><tr><th>emp_id</th><th>name</th><th>sal</th><th>dept</th><th>city</th><th>valid_from</th><th>valid_to</th><th>is_active</th><th>hash64</th></tr></thead><tbody><tr><td>101</td><td>Rama</td><td>70000</td><td>IT</td><td>Hyd</td><td>2025-07-01</td><td>9999-12-31</td><td>Y</td><td>-7669449300241596311</td></tr><tr><td>101</td><td>Rama</td><td>60000</td><td>IT</td><td>Hyd</td><td>2025-02-26</td><td>2025-07-01</td><td>N</td><td>6784066679327434019</td></tr><tr><td>102</td><td>Pavan</td><td>55000</td><td>Fin</td><td>Blr</td><td>2025-07-01</td><td>9999-12-31</td><td>Y</td><td>-5263860670282463898</td></tr><tr><td>103</td><td>Pavani</td><td>48000</td><td>HR</td><td>Pune</td><td>2025-07-01</td><td>9999-12-31</td><td>Y</td><td>7801829772592953525</td></tr></tbody></table></div>"
      ]
     },
     "metadata": {
      "application/vnd.databricks.v1+output": {
       "addedWidgets": {},
       "aggData": [],
       "aggError": "",
       "aggOverflow": false,
       "aggSchema": [],
       "aggSeriesLimitReached": false,
       "aggType": "",
       "arguments": {},
       "columnCustomDisplayInfos": {},
       "data": [
        [
         101,
         "Rama",
         70000,
         "IT",
         "Hyd",
         "2025-07-01",
         "9999-12-31",
         "Y",
         -7669449300241596311
        ],
        [
         101,
         "Rama",
         60000,
         "IT",
         "Hyd",
         "2025-02-26",
         "2025-07-01",
         "N",
         6784066679327434019
        ],
        [
         102,
         "Pavan",
         55000,
         "Fin",
         "Blr",
         "2025-07-01",
         "9999-12-31",
         "Y",
         -5263860670282463898
        ],
        [
         103,
         "Pavani",
         48000,
         "HR",
         "Pune",
         "2025-07-01",
         "9999-12-31",
         "Y",
         7801829772592953525
        ]
       ],
       "datasetInfos": [],
       "dbfsResultPath": null,
       "isJsonSchema": true,
       "metadata": {},
       "overflow": false,
       "plotOptions": {
        "customPlotOptions": {},
        "displayType": "table",
        "pivotAggregation": null,
        "pivotColumns": null,
        "xColumns": null,
        "yColumns": null
       },
       "removedWidgets": [],
       "schema": [
        {
         "metadata": "{}",
         "name": "emp_id",
         "type": "\"long\""
        },
        {
         "metadata": "{}",
         "name": "name",
         "type": "\"string\""
        },
        {
         "metadata": "{}",
         "name": "sal",
         "type": "\"long\""
        },
        {
         "metadata": "{}",
         "name": "dept",
         "type": "\"string\""
        },
        {
         "metadata": "{}",
         "name": "city",
         "type": "\"string\""
        },
        {
         "metadata": "{}",
         "name": "valid_from",
         "type": "\"date\""
        },
        {
         "metadata": "{}",
         "name": "valid_to",
         "type": "\"date\""
        },
        {
         "metadata": "{}",
         "name": "is_active",
         "type": "\"string\""
        },
        {
         "metadata": "{}",
         "name": "hash64",
         "type": "\"long\""
        }
       ],
       "type": "table"
      }
     },
     "output_type": "display_data"
    },
    {
     "output_type": "stream",
     "name": "stdout",
     "output_type": "stream",
     "text": [
      "************************ Source DF Data ************************\n"
     ]
    },
    {
     "output_type": "display_data",
     "data": {
      "text/html": [
       "<style scoped>\n",
       "  .table-result-container {\n",
       "    max-height: 300px;\n",
       "    overflow: auto;\n",
       "  }\n",
       "  table, th, td {\n",
       "    border: 1px solid black;\n",
       "    border-collapse: collapse;\n",
       "  }\n",
       "  th, td {\n",
       "    padding: 5px;\n",
       "  }\n",
       "  th {\n",
       "    text-align: left;\n",
       "  }\n",
       "</style><div class='table-result-container'><table class='table-result'><thead style='background-color: white'><tr><th>emp_id</th><th>name</th><th>sal</th><th>dept</th><th>city</th><th>valid_from</th><th>hash64</th></tr></thead><tbody><tr><td>101</td><td>Rama</td><td>80000</td><td>IT</td><td>Hyd</td><td>2025-07-19</td><td>8589350289873110920</td></tr><tr><td>102</td><td>Pavan</td><td>55000</td><td>Fin</td><td>Blr</td><td>2025-07-19</td><td>-5263860670282463898</td></tr><tr><td>103</td><td>Pavani</td><td>48000</td><td>HR</td><td>Mumbai</td><td>2025-07-19</td><td>-4972189013777351868</td></tr><tr><td>104</td><td>Mike</td><td>65000</td><td>Dev</td><td>New York</td><td>2025-07-19</td><td>-331763272281981946</td></tr></tbody></table></div>"
      ]
     },
     "metadata": {
      "application/vnd.databricks.v1+output": {
       "addedWidgets": {},
       "aggData": [],
       "aggError": "",
       "aggOverflow": false,
       "aggSchema": [],
       "aggSeriesLimitReached": false,
       "aggType": "",
       "arguments": {},
       "columnCustomDisplayInfos": {},
       "data": [
        [
         101,
         "Rama",
         80000,
         "IT",
         "Hyd",
         "2025-07-19",
         8589350289873110920
        ],
        [
         102,
         "Pavan",
         55000,
         "Fin",
         "Blr",
         "2025-07-19",
         -5263860670282463898
        ],
        [
         103,
         "Pavani",
         48000,
         "HR",
         "Mumbai",
         "2025-07-19",
         -4972189013777351868
        ],
        [
         104,
         "Mike",
         65000,
         "Dev",
         "New York",
         "2025-07-19",
         -331763272281981946
        ]
       ],
       "datasetInfos": [],
       "dbfsResultPath": null,
       "isJsonSchema": true,
       "metadata": {},
       "overflow": false,
       "plotOptions": {
        "customPlotOptions": {},
        "displayType": "table",
        "pivotAggregation": null,
        "pivotColumns": null,
        "xColumns": null,
        "yColumns": null
       },
       "removedWidgets": [],
       "schema": [
        {
         "metadata": "{}",
         "name": "emp_id",
         "type": "\"long\""
        },
        {
         "metadata": "{}",
         "name": "name",
         "type": "\"string\""
        },
        {
         "metadata": "{}",
         "name": "sal",
         "type": "\"long\""
        },
        {
         "metadata": "{}",
         "name": "dept",
         "type": "\"string\""
        },
        {
         "metadata": "{}",
         "name": "city",
         "type": "\"string\""
        },
        {
         "metadata": "{}",
         "name": "valid_from",
         "type": "\"date\""
        },
        {
         "metadata": "{}",
         "name": "hash64",
         "type": "\"long\""
        }
       ],
       "type": "table"
      }
     },
     "output_type": "display_data"
    }
   ],
   "source": [
    "from pyspark.sql.functions import xxhash64, col\n",
    "\n",
    "# Add hash column to target and source\n",
    "df_target = target_df.withColumn(\"hash64\", xxhash64(\n",
    "    col(\"emp_id\"), col(\"name\"), col(\"sal\"), col(\"dept\"), col(\"city\")\n",
    "))\n",
    "\n",
    "df_source = source_df.withColumn(\"hash64\", xxhash64(\n",
    "    col(\"emp_id\"), col(\"name\"), col(\"sal\"), col(\"dept\"), col(\"city\")\n",
    "))\n",
    "\n",
    "print(\"************************ Target Table Data ************************\")\n",
    "df_target.display(truncate=False)\n",
    "\n",
    "print(\"************************ Source DF Data ************************\")\n",
    "df_source.display(truncate=False)\n"
   ]
  },
  {
   "cell_type": "markdown",
   "metadata": {
    "application/vnd.databricks.v1+cell": {
     "cellMetadata": {},
     "inputWidgets": {},
     "nuid": "ce81bc51-7b60-4ac0-a37b-7dd1a94fb9ac",
     "showTitle": false,
     "tableResultSettingsMap": {},
     "title": ""
    }
   },
   "source": [
    "Step 3: Performing a \"Left Anti\" join on the Source and Target data using the hash key, which filters out matching records from the left table, leaving only the unmatched data."
   ]
  },
  {
   "cell_type": "code",
   "execution_count": 0,
   "metadata": {
    "application/vnd.databricks.v1+cell": {
     "cellMetadata": {
      "byteLimit": 2048000,
      "rowLimit": 10000
     },
     "inputWidgets": {},
     "nuid": "c45389be-c975-4996-847a-bbc643951711",
     "showTitle": false,
     "tableResultSettingsMap": {},
     "title": ""
    }
   },
   "outputs": [
    {
     "output_type": "display_data",
     "data": {
      "text/html": [
       "<style scoped>\n",
       "  .table-result-container {\n",
       "    max-height: 300px;\n",
       "    overflow: auto;\n",
       "  }\n",
       "  table, th, td {\n",
       "    border: 1px solid black;\n",
       "    border-collapse: collapse;\n",
       "  }\n",
       "  th, td {\n",
       "    padding: 5px;\n",
       "  }\n",
       "  th {\n",
       "    text-align: left;\n",
       "  }\n",
       "</style><div class='table-result-container'><table class='table-result'><thead style='background-color: white'><tr><th>emp_id</th><th>name</th><th>sal</th><th>dept</th><th>city</th><th>valid_from</th></tr></thead><tbody><tr><td>101</td><td>Rama</td><td>80000</td><td>IT</td><td>Hyd</td><td>2025-07-19</td></tr><tr><td>103</td><td>Pavani</td><td>48000</td><td>HR</td><td>Mumbai</td><td>2025-07-19</td></tr><tr><td>104</td><td>Mike</td><td>65000</td><td>Dev</td><td>New York</td><td>2025-07-19</td></tr></tbody></table></div>"
      ]
     },
     "metadata": {
      "application/vnd.databricks.v1+output": {
       "addedWidgets": {},
       "aggData": [],
       "aggError": "",
       "aggOverflow": false,
       "aggSchema": [],
       "aggSeriesLimitReached": false,
       "aggType": "",
       "arguments": {},
       "columnCustomDisplayInfos": {},
       "data": [
        [
         101,
         "Rama",
         80000,
         "IT",
         "Hyd",
         "2025-07-19"
        ],
        [
         103,
         "Pavani",
         48000,
         "HR",
         "Mumbai",
         "2025-07-19"
        ],
        [
         104,
         "Mike",
         65000,
         "Dev",
         "New York",
         "2025-07-19"
        ]
       ],
       "datasetInfos": [],
       "dbfsResultPath": null,
       "isJsonSchema": true,
       "metadata": {},
       "overflow": false,
       "plotOptions": {
        "customPlotOptions": {},
        "displayType": "table",
        "pivotAggregation": null,
        "pivotColumns": null,
        "xColumns": null,
        "yColumns": null
       },
       "removedWidgets": [],
       "schema": [
        {
         "metadata": "{}",
         "name": "emp_id",
         "type": "\"long\""
        },
        {
         "metadata": "{}",
         "name": "name",
         "type": "\"string\""
        },
        {
         "metadata": "{}",
         "name": "sal",
         "type": "\"long\""
        },
        {
         "metadata": "{}",
         "name": "dept",
         "type": "\"string\""
        },
        {
         "metadata": "{}",
         "name": "city",
         "type": "\"string\""
        },
        {
         "metadata": "{}",
         "name": "valid_from",
         "type": "\"date\""
        }
       ],
       "type": "table"
      }
     },
     "output_type": "display_data"
    }
   ],
   "source": [
    "# Only active records from target are relevant\n",
    "df_target_active = df_target.filter(col(\"is_active\") == \"Y\")\n",
    "\n",
    "# Left Anti Join to get updated or new records\n",
    "df_result = df_source.join(\n",
    "    df_target_active,\n",
    "    df_target_active.hash64 == df_source.hash64,\n",
    "    \"leftanti\"\n",
    ").drop(\"hash64\")\n",
    "\n",
    "# Display the result\n",
    "df_result.display()\n"
   ]
  },
  {
   "cell_type": "markdown",
   "metadata": {
    "application/vnd.databricks.v1+cell": {
     "cellMetadata": {},
     "inputWidgets": {},
     "nuid": "d09fb6dc-bf62-4ba2-9ab6-e2e5e807a783",
     "showTitle": false,
     "tableResultSettingsMap": {},
     "title": ""
    }
   },
   "source": [
    "Step 4: add columns ensuring its alignment with target columns "
   ]
  },
  {
   "cell_type": "code",
   "execution_count": 0,
   "metadata": {
    "application/vnd.databricks.v1+cell": {
     "cellMetadata": {
      "byteLimit": 2048000,
      "rowLimit": 10000
     },
     "inputWidgets": {},
     "nuid": "50a125dc-0167-4887-81fb-db4fbc11df1f",
     "showTitle": false,
     "tableResultSettingsMap": {},
     "title": ""
    }
   },
   "outputs": [
    {
     "output_type": "display_data",
     "data": {
      "text/html": [
       "<style scoped>\n",
       "  .table-result-container {\n",
       "    max-height: 300px;\n",
       "    overflow: auto;\n",
       "  }\n",
       "  table, th, td {\n",
       "    border: 1px solid black;\n",
       "    border-collapse: collapse;\n",
       "  }\n",
       "  th, td {\n",
       "    padding: 5px;\n",
       "  }\n",
       "  th {\n",
       "    text-align: left;\n",
       "  }\n",
       "</style><div class='table-result-container'><table class='table-result'><thead style='background-color: white'><tr><th>emp_id</th><th>name</th><th>sal</th><th>dept</th><th>city</th><th>valid_from</th><th>is_active</th><th>valid_to</th></tr></thead><tbody><tr><td>101</td><td>Rama</td><td>80000</td><td>IT</td><td>Hyd</td><td>2025-07-19</td><td>Y</td><td>9999-12-31</td></tr><tr><td>103</td><td>Pavani</td><td>48000</td><td>HR</td><td>Mumbai</td><td>2025-07-19</td><td>Y</td><td>9999-12-31</td></tr><tr><td>104</td><td>Mike</td><td>65000</td><td>Dev</td><td>New York</td><td>2025-07-19</td><td>Y</td><td>9999-12-31</td></tr></tbody></table></div>"
      ]
     },
     "metadata": {
      "application/vnd.databricks.v1+output": {
       "addedWidgets": {},
       "aggData": [],
       "aggError": "",
       "aggOverflow": false,
       "aggSchema": [],
       "aggSeriesLimitReached": false,
       "aggType": "",
       "arguments": {},
       "columnCustomDisplayInfos": {},
       "data": [
        [
         101,
         "Rama",
         80000,
         "IT",
         "Hyd",
         "2025-07-19",
         "Y",
         "9999-12-31"
        ],
        [
         103,
         "Pavani",
         48000,
         "HR",
         "Mumbai",
         "2025-07-19",
         "Y",
         "9999-12-31"
        ],
        [
         104,
         "Mike",
         65000,
         "Dev",
         "New York",
         "2025-07-19",
         "Y",
         "9999-12-31"
        ]
       ],
       "datasetInfos": [],
       "dbfsResultPath": null,
       "isJsonSchema": true,
       "metadata": {},
       "overflow": false,
       "plotOptions": {
        "customPlotOptions": {},
        "displayType": "table",
        "pivotAggregation": null,
        "pivotColumns": null,
        "xColumns": null,
        "yColumns": null
       },
       "removedWidgets": [],
       "schema": [
        {
         "metadata": "{}",
         "name": "emp_id",
         "type": "\"long\""
        },
        {
         "metadata": "{}",
         "name": "name",
         "type": "\"string\""
        },
        {
         "metadata": "{}",
         "name": "sal",
         "type": "\"long\""
        },
        {
         "metadata": "{}",
         "name": "dept",
         "type": "\"string\""
        },
        {
         "metadata": "{}",
         "name": "city",
         "type": "\"string\""
        },
        {
         "metadata": "{}",
         "name": "valid_from",
         "type": "\"date\""
        },
        {
         "metadata": "{}",
         "name": "is_active",
         "type": "\"string\""
        },
        {
         "metadata": "{}",
         "name": "valid_to",
         "type": "\"date\""
        }
       ],
       "type": "table"
      }
     },
     "output_type": "display_data"
    }
   ],
   "source": [
    "from pyspark.sql.functions import lit, current_timestamp, to_date\n",
    "\n",
    "df_result = df_result.withColumn(\"is_active\", lit(\"Y\")) \\\n",
    "    .withColumn(\"valid_from\", to_date(current_timestamp())) \\\n",
    "    .withColumn(\"valid_to\", to_date(lit(\"9999-12-31\")))\n",
    "\n",
    "df_result.display()"
   ]
  },
  {
   "cell_type": "markdown",
   "metadata": {
    "application/vnd.databricks.v1+cell": {
     "cellMetadata": {},
     "inputWidgets": {},
     "nuid": "bcdb972e-4a15-421c-8149-7e738a3f6773",
     "showTitle": false,
     "tableResultSettingsMap": {},
     "title": ""
    }
   },
   "source": [
    "Step 5: Append these records to target"
   ]
  },
  {
   "cell_type": "code",
   "execution_count": 0,
   "metadata": {
    "application/vnd.databricks.v1+cell": {
     "cellMetadata": {
      "byteLimit": 2048000,
      "rowLimit": 10000
     },
     "inputWidgets": {},
     "nuid": "ca949146-3011-46af-be8e-0f64debc7bea",
     "showTitle": false,
     "tableResultSettingsMap": {},
     "title": ""
    }
   },
   "outputs": [
    {
     "output_type": "stream",
     "name": "stdout",
     "output_type": "stream",
     "text": [
      "Final SCD Type 2 Output:\n"
     ]
    },
    {
     "output_type": "display_data",
     "data": {
      "text/html": [
       "<style scoped>\n",
       "  .table-result-container {\n",
       "    max-height: 300px;\n",
       "    overflow: auto;\n",
       "  }\n",
       "  table, th, td {\n",
       "    border: 1px solid black;\n",
       "    border-collapse: collapse;\n",
       "  }\n",
       "  th, td {\n",
       "    padding: 5px;\n",
       "  }\n",
       "  th {\n",
       "    text-align: left;\n",
       "  }\n",
       "</style><div class='table-result-container'><table class='table-result'><thead style='background-color: white'><tr><th>emp_id</th><th>name</th><th>sal</th><th>dept</th><th>city</th><th>valid_from</th><th>valid_to</th><th>is_active</th></tr></thead><tbody><tr><td>101</td><td>Rama</td><td>80000</td><td>IT</td><td>Hyd</td><td>2025-07-19</td><td>9999-12-31</td><td>Y</td></tr><tr><td>103</td><td>Pavani</td><td>48000</td><td>HR</td><td>Mumbai</td><td>2025-07-19</td><td>9999-12-31</td><td>Y</td></tr><tr><td>104</td><td>Mike</td><td>65000</td><td>Dev</td><td>New York</td><td>2025-07-19</td><td>9999-12-31</td><td>Y</td></tr><tr><td>101</td><td>Rama</td><td>70000</td><td>IT</td><td>Hyd</td><td>2025-07-01</td><td>9999-12-31</td><td>Y</td></tr><tr><td>101</td><td>Rama</td><td>60000</td><td>IT</td><td>Hyd</td><td>2025-02-26</td><td>2025-07-01</td><td>N</td></tr><tr><td>102</td><td>Pavan</td><td>55000</td><td>Fin</td><td>Blr</td><td>2025-07-01</td><td>9999-12-31</td><td>Y</td></tr><tr><td>103</td><td>Pavani</td><td>48000</td><td>HR</td><td>Pune</td><td>2025-07-01</td><td>9999-12-31</td><td>Y</td></tr></tbody></table></div>"
      ]
     },
     "metadata": {
      "application/vnd.databricks.v1+output": {
       "addedWidgets": {},
       "aggData": [],
       "aggError": "",
       "aggOverflow": false,
       "aggSchema": [],
       "aggSeriesLimitReached": false,
       "aggType": "",
       "arguments": {},
       "columnCustomDisplayInfos": {},
       "data": [
        [
         101,
         "Rama",
         80000,
         "IT",
         "Hyd",
         "2025-07-19",
         "9999-12-31",
         "Y"
        ],
        [
         103,
         "Pavani",
         48000,
         "HR",
         "Mumbai",
         "2025-07-19",
         "9999-12-31",
         "Y"
        ],
        [
         104,
         "Mike",
         65000,
         "Dev",
         "New York",
         "2025-07-19",
         "9999-12-31",
         "Y"
        ],
        [
         101,
         "Rama",
         70000,
         "IT",
         "Hyd",
         "2025-07-01",
         "9999-12-31",
         "Y"
        ],
        [
         101,
         "Rama",
         60000,
         "IT",
         "Hyd",
         "2025-02-26",
         "2025-07-01",
         "N"
        ],
        [
         102,
         "Pavan",
         55000,
         "Fin",
         "Blr",
         "2025-07-01",
         "9999-12-31",
         "Y"
        ],
        [
         103,
         "Pavani",
         48000,
         "HR",
         "Pune",
         "2025-07-01",
         "9999-12-31",
         "Y"
        ]
       ],
       "datasetInfos": [],
       "dbfsResultPath": null,
       "isJsonSchema": true,
       "metadata": {},
       "overflow": false,
       "plotOptions": {
        "customPlotOptions": {},
        "displayType": "table",
        "pivotAggregation": null,
        "pivotColumns": null,
        "xColumns": null,
        "yColumns": null
       },
       "removedWidgets": [],
       "schema": [
        {
         "metadata": "{}",
         "name": "emp_id",
         "type": "\"long\""
        },
        {
         "metadata": "{}",
         "name": "name",
         "type": "\"string\""
        },
        {
         "metadata": "{}",
         "name": "sal",
         "type": "\"long\""
        },
        {
         "metadata": "{}",
         "name": "dept",
         "type": "\"string\""
        },
        {
         "metadata": "{}",
         "name": "city",
         "type": "\"string\""
        },
        {
         "metadata": "{}",
         "name": "valid_from",
         "type": "\"date\""
        },
        {
         "metadata": "{}",
         "name": "valid_to",
         "type": "\"date\""
        },
        {
         "metadata": "{}",
         "name": "is_active",
         "type": "\"string\""
        }
       ],
       "type": "table"
      }
     },
     "output_type": "display_data"
    }
   ],
   "source": [
    "# Step-5: Union old + new records (SCD Type 2)\n",
    "df_combined = target_df.unionByName(df_result)\n",
    "\n",
    "print(\"Final SCD Type 2 Output:\")\n",
    "df_combined.display()\n"
   ]
  },
  {
   "cell_type": "markdown",
   "metadata": {
    "application/vnd.databricks.v1+cell": {
     "cellMetadata": {},
     "inputWidgets": {},
     "nuid": "f1331030-1ac5-4044-b5dc-8c7995934845",
     "showTitle": false,
     "tableResultSettingsMap": {},
     "title": ""
    }
   },
   "source": [
    "Step 6: Apply the ROW_NUMBER() function to the dataset, partitioned by emp_id and ordered by valid_from in descending order."
   ]
  },
  {
   "cell_type": "code",
   "execution_count": 0,
   "metadata": {
    "application/vnd.databricks.v1+cell": {
     "cellMetadata": {
      "byteLimit": 2048000,
      "rowLimit": 10000
     },
     "inputWidgets": {},
     "nuid": "6191a102-f84e-421b-9dcc-c5400db6aa03",
     "showTitle": false,
     "tableResultSettingsMap": {},
     "title": ""
    }
   },
   "outputs": [
    {
     "output_type": "display_data",
     "data": {
      "text/html": [
       "<style scoped>\n",
       "  .table-result-container {\n",
       "    max-height: 300px;\n",
       "    overflow: auto;\n",
       "  }\n",
       "  table, th, td {\n",
       "    border: 1px solid black;\n",
       "    border-collapse: collapse;\n",
       "  }\n",
       "  th, td {\n",
       "    padding: 5px;\n",
       "  }\n",
       "  th {\n",
       "    text-align: left;\n",
       "  }\n",
       "</style><div class='table-result-container'><table class='table-result'><thead style='background-color: white'><tr><th>emp_id</th><th>name</th><th>sal</th><th>dept</th><th>city</th><th>valid_from</th><th>valid_to</th><th>is_active</th><th>row_number</th></tr></thead><tbody><tr><td>101</td><td>Rama</td><td>80000</td><td>IT</td><td>Hyd</td><td>2025-07-19</td><td>9999-12-31</td><td>Y</td><td>1</td></tr><tr><td>101</td><td>Rama</td><td>70000</td><td>IT</td><td>Hyd</td><td>2025-07-01</td><td>9999-12-31</td><td>Y</td><td>2</td></tr><tr><td>101</td><td>Rama</td><td>60000</td><td>IT</td><td>Hyd</td><td>2025-02-26</td><td>2025-07-01</td><td>N</td><td>3</td></tr><tr><td>102</td><td>Pavan</td><td>55000</td><td>Fin</td><td>Blr</td><td>2025-07-01</td><td>9999-12-31</td><td>Y</td><td>1</td></tr><tr><td>103</td><td>Pavani</td><td>48000</td><td>HR</td><td>Mumbai</td><td>2025-07-19</td><td>9999-12-31</td><td>Y</td><td>1</td></tr><tr><td>103</td><td>Pavani</td><td>48000</td><td>HR</td><td>Pune</td><td>2025-07-01</td><td>9999-12-31</td><td>Y</td><td>2</td></tr><tr><td>104</td><td>Mike</td><td>65000</td><td>Dev</td><td>New York</td><td>2025-07-19</td><td>9999-12-31</td><td>Y</td><td>1</td></tr></tbody></table></div>"
      ]
     },
     "metadata": {
      "application/vnd.databricks.v1+output": {
       "addedWidgets": {},
       "aggData": [],
       "aggError": "",
       "aggOverflow": false,
       "aggSchema": [],
       "aggSeriesLimitReached": false,
       "aggType": "",
       "arguments": {},
       "columnCustomDisplayInfos": {},
       "data": [
        [
         101,
         "Rama",
         80000,
         "IT",
         "Hyd",
         "2025-07-19",
         "9999-12-31",
         "Y",
         1
        ],
        [
         101,
         "Rama",
         70000,
         "IT",
         "Hyd",
         "2025-07-01",
         "9999-12-31",
         "Y",
         2
        ],
        [
         101,
         "Rama",
         60000,
         "IT",
         "Hyd",
         "2025-02-26",
         "2025-07-01",
         "N",
         3
        ],
        [
         102,
         "Pavan",
         55000,
         "Fin",
         "Blr",
         "2025-07-01",
         "9999-12-31",
         "Y",
         1
        ],
        [
         103,
         "Pavani",
         48000,
         "HR",
         "Mumbai",
         "2025-07-19",
         "9999-12-31",
         "Y",
         1
        ],
        [
         103,
         "Pavani",
         48000,
         "HR",
         "Pune",
         "2025-07-01",
         "9999-12-31",
         "Y",
         2
        ],
        [
         104,
         "Mike",
         65000,
         "Dev",
         "New York",
         "2025-07-19",
         "9999-12-31",
         "Y",
         1
        ]
       ],
       "datasetInfos": [],
       "dbfsResultPath": null,
       "isJsonSchema": true,
       "metadata": {},
       "overflow": false,
       "plotOptions": {
        "customPlotOptions": {},
        "displayType": "table",
        "pivotAggregation": null,
        "pivotColumns": null,
        "xColumns": null,
        "yColumns": null
       },
       "removedWidgets": [],
       "schema": [
        {
         "metadata": "{}",
         "name": "emp_id",
         "type": "\"long\""
        },
        {
         "metadata": "{}",
         "name": "name",
         "type": "\"string\""
        },
        {
         "metadata": "{}",
         "name": "sal",
         "type": "\"long\""
        },
        {
         "metadata": "{}",
         "name": "dept",
         "type": "\"string\""
        },
        {
         "metadata": "{}",
         "name": "city",
         "type": "\"string\""
        },
        {
         "metadata": "{}",
         "name": "valid_from",
         "type": "\"date\""
        },
        {
         "metadata": "{}",
         "name": "valid_to",
         "type": "\"date\""
        },
        {
         "metadata": "{}",
         "name": "is_active",
         "type": "\"string\""
        },
        {
         "metadata": "{}",
         "name": "row_number",
         "type": "\"integer\""
        }
       ],
       "type": "table"
      }
     },
     "output_type": "display_data"
    }
   ],
   "source": [
    "from pyspark.sql import Window\n",
    "from pyspark.sql.functions import row_number\n",
    "\n",
    "# Define window spec: partition by emp_id and order by valid_from descending\n",
    "window_spec = Window.partitionBy(\"emp_id\").orderBy(df_combined[\"valid_from\"].desc())\n",
    "\n",
    "# Apply row_number to identify latest rows per employee\n",
    "df_with_rownum = df_combined.withColumn(\"row_number\", row_number().over(window_spec))\n",
    "\n",
    "# Display the result\n",
    "df_with_rownum.display()"
   ]
  },
  {
   "cell_type": "markdown",
   "metadata": {
    "application/vnd.databricks.v1+cell": {
     "cellMetadata": {},
     "inputWidgets": {},
     "nuid": "43eb3d60-51d3-421f-87db-7ac250e52210",
     "showTitle": false,
     "tableResultSettingsMap": {},
     "title": ""
    }
   },
   "source": [
    "Step 7: Update is_active and valid_to"
   ]
  },
  {
   "cell_type": "code",
   "execution_count": 0,
   "metadata": {
    "application/vnd.databricks.v1+cell": {
     "cellMetadata": {
      "byteLimit": 2048000,
      "rowLimit": 10000
     },
     "inputWidgets": {},
     "nuid": "e4a92930-254b-4d5b-9390-d6bf3386cd83",
     "showTitle": false,
     "tableResultSettingsMap": {},
     "title": ""
    }
   },
   "outputs": [
    {
     "output_type": "display_data",
     "data": {
      "text/html": [
       "<style scoped>\n",
       "  .table-result-container {\n",
       "    max-height: 300px;\n",
       "    overflow: auto;\n",
       "  }\n",
       "  table, th, td {\n",
       "    border: 1px solid black;\n",
       "    border-collapse: collapse;\n",
       "  }\n",
       "  th, td {\n",
       "    padding: 5px;\n",
       "  }\n",
       "  th {\n",
       "    text-align: left;\n",
       "  }\n",
       "</style><div class='table-result-container'><table class='table-result'><thead style='background-color: white'><tr><th>emp_id</th><th>name</th><th>sal</th><th>dept</th><th>city</th><th>valid_from</th><th>valid_to</th><th>is_active</th></tr></thead><tbody><tr><td>101</td><td>Rama</td><td>80000</td><td>IT</td><td>Hyd</td><td>2025-07-19</td><td>9999-12-31</td><td>Y</td></tr><tr><td>101</td><td>Rama</td><td>70000</td><td>IT</td><td>Hyd</td><td>2025-07-01</td><td>2025-07-19</td><td>N</td></tr><tr><td>101</td><td>Rama</td><td>60000</td><td>IT</td><td>Hyd</td><td>2025-02-26</td><td>2025-07-01</td><td>N</td></tr><tr><td>102</td><td>Pavan</td><td>55000</td><td>Fin</td><td>Blr</td><td>2025-07-01</td><td>9999-12-31</td><td>Y</td></tr><tr><td>103</td><td>Pavani</td><td>48000</td><td>HR</td><td>Mumbai</td><td>2025-07-19</td><td>9999-12-31</td><td>Y</td></tr><tr><td>103</td><td>Pavani</td><td>48000</td><td>HR</td><td>Pune</td><td>2025-07-01</td><td>2025-07-19</td><td>N</td></tr><tr><td>104</td><td>Mike</td><td>65000</td><td>Dev</td><td>New York</td><td>2025-07-19</td><td>9999-12-31</td><td>Y</td></tr></tbody></table></div>"
      ]
     },
     "metadata": {
      "application/vnd.databricks.v1+output": {
       "addedWidgets": {},
       "aggData": [],
       "aggError": "",
       "aggOverflow": false,
       "aggSchema": [],
       "aggSeriesLimitReached": false,
       "aggType": "",
       "arguments": {},
       "columnCustomDisplayInfos": {},
       "data": [
        [
         101,
         "Rama",
         80000,
         "IT",
         "Hyd",
         "2025-07-19",
         "9999-12-31",
         "Y"
        ],
        [
         101,
         "Rama",
         70000,
         "IT",
         "Hyd",
         "2025-07-01",
         "2025-07-19",
         "N"
        ],
        [
         101,
         "Rama",
         60000,
         "IT",
         "Hyd",
         "2025-02-26",
         "2025-07-01",
         "N"
        ],
        [
         102,
         "Pavan",
         55000,
         "Fin",
         "Blr",
         "2025-07-01",
         "9999-12-31",
         "Y"
        ],
        [
         103,
         "Pavani",
         48000,
         "HR",
         "Mumbai",
         "2025-07-19",
         "9999-12-31",
         "Y"
        ],
        [
         103,
         "Pavani",
         48000,
         "HR",
         "Pune",
         "2025-07-01",
         "2025-07-19",
         "N"
        ],
        [
         104,
         "Mike",
         65000,
         "Dev",
         "New York",
         "2025-07-19",
         "9999-12-31",
         "Y"
        ]
       ],
       "datasetInfos": [],
       "dbfsResultPath": null,
       "isJsonSchema": true,
       "metadata": {},
       "overflow": false,
       "plotOptions": {
        "customPlotOptions": {},
        "displayType": "table",
        "pivotAggregation": null,
        "pivotColumns": null,
        "xColumns": null,
        "yColumns": null
       },
       "removedWidgets": [],
       "schema": [
        {
         "metadata": "{}",
         "name": "emp_id",
         "type": "\"long\""
        },
        {
         "metadata": "{}",
         "name": "name",
         "type": "\"string\""
        },
        {
         "metadata": "{}",
         "name": "sal",
         "type": "\"long\""
        },
        {
         "metadata": "{}",
         "name": "dept",
         "type": "\"string\""
        },
        {
         "metadata": "{}",
         "name": "city",
         "type": "\"string\""
        },
        {
         "metadata": "{}",
         "name": "valid_from",
         "type": "\"date\""
        },
        {
         "metadata": "{}",
         "name": "valid_to",
         "type": "\"date\""
        },
        {
         "metadata": "{}",
         "name": "is_active",
         "type": "\"string\""
        }
       ],
       "type": "table"
      }
     },
     "output_type": "display_data"
    }
   ],
   "source": [
    "from pyspark.sql.functions import lag, when\n",
    "\n",
    "# Reuse window spec from row_number step\n",
    "window_spec = Window.partitionBy(\"emp_id\").orderBy(df_combined[\"valid_from\"].desc())\n",
    "\n",
    "# Apply lag to get next valid_from date\n",
    "df_final = df_with_rownum.withColumn(\"next_valid_from\", lag(\"valid_from\").over(window_spec))\n",
    "\n",
    "# Update is_active and valid_to based on row_number\n",
    "df_final = df_final.withColumn(\"is_active\", when(df_final[\"row_number\"] == 1, \"Y\").otherwise(\"N\")) \\\n",
    "                   .withColumn(\"valid_to\", when(df_final[\"row_number\"] == 1, df_final[\"valid_to\"])\n",
    "                                         .otherwise(df_final[\"next_valid_from\"]))\n",
    "\n",
    "# Drop helper column if not needed\n",
    "df_final = df_final.drop(\"row_number\", \"next_valid_from\")\n",
    "\n",
    "# Show final SCD2 table\n",
    "display(df_final)"
   ]
  },
  {
   "cell_type": "markdown",
   "metadata": {
    "application/vnd.databricks.v1+cell": {
     "cellMetadata": {},
     "inputWidgets": {},
     "nuid": "1881f0dc-b4a0-4074-9c34-8204808f2c0a",
     "showTitle": false,
     "tableResultSettingsMap": {},
     "title": ""
    }
   },
   "source": [
    "Step-8:\n",
    "Write the latest dataframe results to the target table (overwrite the previous Delta table)."
   ]
  },
  {
   "cell_type": "code",
   "execution_count": 0,
   "metadata": {
    "application/vnd.databricks.v1+cell": {
     "cellMetadata": {},
     "inputWidgets": {},
     "nuid": "17222240-3493-40ae-b83f-711311c62bb4",
     "showTitle": false,
     "tableResultSettingsMap": {},
     "title": ""
    }
   },
   "outputs": [],
   "source": []
  }
 ],
 "metadata": {
  "application/vnd.databricks.v1+notebook": {
   "computePreferences": null,
   "dashboards": [],
   "environmentMetadata": {
    "base_environment": "",
    "environment_version": "2"
   },
   "inputWidgetPreferences": null,
   "language": "python",
   "notebookMetadata": {
    "pythonIndentUnit": 4
   },
   "notebookName": "SCDType2 Pipeline",
   "widgets": {}
  },
  "language_info": {
   "name": "python"
  }
 },
 "nbformat": 4,
 "nbformat_minor": 0
}